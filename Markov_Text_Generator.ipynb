
import random 

def markov_script_generator(s, n, length, seed):
    text = seed;
    D = ngrams(s, n+1)
    
    
    #Have a for loop keep going until your text is long enough
    for i in range((length - len(seed))):
        #Inside the for loop, make a dictionary of all n+1 grams whose first n 
        #letters match the last n letters of your text.
        
        #keep this inside so we can have an empty D2 every time we loop
        D2 = {}
        #keys[0:n] represnets the first letters of all n+1 grams
        #text[-n:len(text)] represents the last n letters of text
        for keys,vals in D.items():
            if(keys[0:n] == text[-n:len(text)]):
                D2.update({keys:vals})
   
        #keep this inside so we can have an empty options and weights every time we loop
        options = []
        weights = []
        #append the keys to options and the values to weights
        for keys,vals in D2.items():
            options.append(keys)
            weights.append(vals)
            
        #choose one of the words in D2 at random
        #X represents a list with one element, L[0], containing a string of length n
        X = random.choices(options, weights)
        #add the last letter of that n+1 gram to your text and repeat
        #X[0][-1] represents the last letter of the n+1 gram
        text = text + (X[0][-1])
        
    return text

        

markov_script_generator(s, n = 4, length = 200, seed = "Text you want your generator to start with; must be found inside s")